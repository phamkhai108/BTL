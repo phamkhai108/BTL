{
 "cells": [
  {
   "cell_type": "code",
   "execution_count": 1,
   "metadata": {},
   "outputs": [
    {
     "name": "stderr",
     "output_type": "stream",
     "text": [
      "c:\\Users\\KIKIp\\AppData\\Local\\Programs\\Python\\Python311\\Lib\\site-packages\\sklearn\\feature_extraction\\text.py:528: UserWarning: The parameter 'token_pattern' will not be used since 'tokenizer' is not None'\n",
      "  warnings.warn(\n"
     ]
    },
    {
     "ename": "AttributeError",
     "evalue": "'TfidfVectorizer' object has no attribute 'get_feature_names'",
     "output_type": "error",
     "traceback": [
      "\u001b[1;31m---------------------------------------------------------------------------\u001b[0m",
      "\u001b[1;31mAttributeError\u001b[0m                            Traceback (most recent call last)",
      "\u001b[1;32mc:\\Users\\KIKIp\\Documents\\Xử Lý Ngôn Ngữ Tự Nhiên\\exprex.ipynb Cell 1\u001b[0m line \u001b[0;36m1\n\u001b[0;32m     <a href='vscode-notebook-cell:/c%3A/Users/KIKIp/Documents/X%E1%BB%AD%20L%C3%BD%20Ng%C3%B4n%20Ng%E1%BB%AF%20T%E1%BB%B1%20Nhi%C3%AAn/exprex.ipynb#W6sZmlsZQ%3D%3D?line=15'>16</a>\u001b[0m vocab_size \u001b[39m=\u001b[39m \u001b[39mlen\u001b[39m(vectorizer\u001b[39m.\u001b[39mvocabulary_)\n\u001b[0;32m     <a href='vscode-notebook-cell:/c%3A/Users/KIKIp/Documents/X%E1%BB%AD%20L%C3%BD%20Ng%C3%B4n%20Ng%E1%BB%AF%20T%E1%BB%B1%20Nhi%C3%AAn/exprex.ipynb#W6sZmlsZQ%3D%3D?line=17'>18</a>\u001b[0m \u001b[39m# Lấy danh sách các từ trong từ điển\u001b[39;00m\n\u001b[1;32m---> <a href='vscode-notebook-cell:/c%3A/Users/KIKIp/Documents/X%E1%BB%AD%20L%C3%BD%20Ng%C3%B4n%20Ng%E1%BB%AF%20T%E1%BB%B1%20Nhi%C3%AAn/exprex.ipynb#W6sZmlsZQ%3D%3D?line=18'>19</a>\u001b[0m vocab \u001b[39m=\u001b[39m vectorizer\u001b[39m.\u001b[39;49mget_feature_names()\n\u001b[0;32m     <a href='vscode-notebook-cell:/c%3A/Users/KIKIp/Documents/X%E1%BB%AD%20L%C3%BD%20Ng%C3%B4n%20Ng%E1%BB%AF%20T%E1%BB%B1%20Nhi%C3%AAn/exprex.ipynb#W6sZmlsZQ%3D%3D?line=20'>21</a>\u001b[0m \u001b[39m# In ra kích thước và từ điển\u001b[39;00m\n\u001b[0;32m     <a href='vscode-notebook-cell:/c%3A/Users/KIKIp/Documents/X%E1%BB%AD%20L%C3%BD%20Ng%C3%B4n%20Ng%E1%BB%AF%20T%E1%BB%B1%20Nhi%C3%AAn/exprex.ipynb#W6sZmlsZQ%3D%3D?line=21'>22</a>\u001b[0m \u001b[39mprint\u001b[39m(\u001b[39m\"\u001b[39m\u001b[39mKích thước từ điển:\u001b[39m\u001b[39m\"\u001b[39m, vocab_size)\n",
      "\u001b[1;31mAttributeError\u001b[0m: 'TfidfVectorizer' object has no attribute 'get_feature_names'"
     ]
    }
   ],
   "source": [
    "# Import các thư viện cần thiết\n",
    "import numpy as np\n",
    "from sklearn.feature_extraction.text import TfidfVectorizer\n",
    "from nltk.tokenize import word_tokenize\n",
    "\n",
    "# Đoạn văn cần chuyển đổi\n",
    "text = \"Bức tượng phải đóng cửa để tu sửa lớn vào năm 1938. Vào đầu thập niên 1980, vì có dấu hiệu hư hại, tượng lại trải qua một đợt đại trùng tu nữa. Trong thời gian tu sửa từ năm 1984 đến 1986, ngọn đuốc và phần lớn cấu trúc bên trong cũng được thay thế. Sau vụ tấn công ngày 11 tháng 9 năm 2001, Tượng Nữ\"\n",
    "\n",
    "# Tạo một vectorizer để biến đổi văn bản thành ma trận tf-idf\n",
    "vectorizer = TfidfVectorizer(tokenizer=word_tokenize, lowercase=False)\n",
    "\n",
    "# Huấn luyện vectorizer trên văn bản\n",
    "vectorizer.fit([text])\n",
    "\n",
    "# Lấy kích thước từ điển\n",
    "vocab_size = len(vectorizer.vocabulary_)\n",
    "\n",
    "# Lấy danh sách các từ trong từ điển\n",
    "vocab = vectorizer.get_feature_names()\n",
    "\n",
    "# In ra kích thước và từ điển\n",
    "print(\"Kích thước từ điển:\", vocab_size)\n",
    "print(\"Từ điển:\", vocab)\n",
    "\n",
    "# Chuyển đổi văn bản thành vector tf-idf\n",
    "vector = vectorizer.transform([text]).toarray()\n",
    "\n",
    "# In ra vector\n",
    "print(\"Vector tf-idf của văn bản:\")\n",
    "print(vector)\n",
    "\n",
    "# Tính trung bình cộng của các vector từ để tạo vector đại diện cho văn bản\n",
    "avg_vector = np.mean(vector, axis=0)\n",
    "\n",
    "# In ra vector trung bình\n",
    "print(\"Vector trung bình của văn bản:\")\n",
    "print(avg_vector)\n"
   ]
  },
  {
   "cell_type": "code",
   "execution_count": null,
   "metadata": {},
   "outputs": [],
   "source": [
    "# Nhập thư viện requests để gửi yêu cầu HTTP\n",
    "import requests\n",
    "import re\n",
    "import underthesea\n",
    "import gensim\n",
    "# Nhập thư viện BeautifulSoup để phân tích cú pháp HTML\n",
    "from bs4 import BeautifulSoup\n",
    "\n",
    "# Định nghĩa URL của trang web mà bạn muốn lấy văn bản\n",
    "# url = \"https://vi.wikipedia.org/wiki/T%C6%B0%E1%BB%A3ng_N%E1%BB%AF_th%E1%BA%A7n_T%E1%BB%B1_do\"\n",
    "text = \"Bức tượng phải đóng cửa để tu sửa lớn vào năm 1938. Vào đầu thập niên 1980, vì có dấu hiệu hư hại, tượng lại trải qua một đợt đại trùng tu nữa. Trong thời gian tu sửa từ năm 1984 đến 1986, ngọn đuốc và phần lớn cấu trúc bên trong cũng được thay thế. Sau vụ tấn công ngày 11 tháng 9 năm 2001, Tượng Nữ\"\n",
    "\n",
    "# Gửi yêu cầu GET đến URL và lưu trữ phản hồi\n",
    "response = requests.get(url)\n",
    "\n",
    "# Kiểm tra xem phản hồi có thành công không\n",
    "if response.status_code == 200:\n",
    "    # Tạo đối tượng BeautifulSoup từ nội dung HTML của phản hồi\n",
    "    soup = BeautifulSoup(response.content, \"html.parser\")\n",
    "\n",
    "    # Tìm tất cả các thẻ <p> trong đối tượng soup\n",
    "    paragraphs = soup.find_all(\"p\")\n",
    "\n",
    "    # Tạo một danh sách trống để lưu trữ văn bản\n",
    "    text = []\n",
    "\n",
    "    # Duyệt qua tất cả các đoạn văn và thêm văn bản vào danh sách\n",
    "    for p in paragraphs:\n",
    "        text.append(p.get_text())\n",
    "\n",
    "    # Nối tất cả các phần tử trong danh sách thành một chuỗi\n",
    "    text = \" \".join(text)\n",
    "    text = re.sub(r'[^\\w\\s]','',text)\n",
    "    text = underthesea.word_tokenize(text)\n",
    "\n",
    "    # In văn bản ra màn hình\n",
    "    print(text)\n",
    "else:\n",
    "    # In mã trạng thái lỗi ra màn hình\n",
    "    print(f\"Yêu cầu thất bại với mã {response.status_code}\")\n"
   ]
  }
 ],
 "metadata": {
  "kernelspec": {
   "display_name": "Python 3 (ipykernel)",
   "language": "python",
   "name": "python3"
  },
  "language_info": {
   "codemirror_mode": {
    "name": "ipython",
    "version": 3
   },
   "file_extension": ".py",
   "mimetype": "text/x-python",
   "name": "python",
   "nbconvert_exporter": "python",
   "pygments_lexer": "ipython3",
   "version": "3.11.6"
  }
 },
 "nbformat": 4,
 "nbformat_minor": 4
}
