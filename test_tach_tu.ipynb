{
 "cells": [
  {
   "cell_type": "code",
   "execution_count": 2,
   "id": "d47318d4-b266-4bda-a6a5-3d2a87ed9ae4",
   "metadata": {},
   "outputs": [
    {
     "ename": "NameError",
     "evalue": "name 'a' is not defined",
     "output_type": "error",
     "traceback": [
      "\u001b[1;31m---------------------------------------------------------------------------\u001b[0m",
      "\u001b[1;31mNameError\u001b[0m                                 Traceback (most recent call last)",
      "\u001b[1;32mc:\\Users\\KIKIp\\Documents\\Xử Lý Ngôn Ngữ Tự Nhiên\\test_tach_tu.ipynb Cell 1\u001b[0m line \u001b[0;36m8\n\u001b[0;32m      <a href='vscode-notebook-cell:/c%3A/Users/KIKIp/Documents/X%E1%BB%AD%20L%C3%BD%20Ng%C3%B4n%20Ng%E1%BB%AF%20T%E1%BB%B1%20Nhi%C3%AAn/test_tach_tu.ipynb#W0sZmlsZQ%3D%3D?line=4'>5</a>\u001b[0m \u001b[39mdef\u001b[39;00m \u001b[39msplit_words\u001b[39m(text):\n\u001b[0;32m      <a href='vscode-notebook-cell:/c%3A/Users/KIKIp/Documents/X%E1%BB%AD%20L%C3%BD%20Ng%C3%B4n%20Ng%E1%BB%AF%20T%E1%BB%B1%20Nhi%C3%AAn/test_tach_tu.ipynb#W0sZmlsZQ%3D%3D?line=5'>6</a>\u001b[0m   \u001b[39mreturn\u001b[39;00m underthesea\u001b[39m.\u001b[39mword_tokenize(a)\n\u001b[1;32m----> <a href='vscode-notebook-cell:/c%3A/Users/KIKIp/Documents/X%E1%BB%AD%20L%C3%BD%20Ng%C3%B4n%20Ng%E1%BB%AF%20T%E1%BB%B1%20Nhi%C3%AAn/test_tach_tu.ipynb#W0sZmlsZQ%3D%3D?line=7'>8</a>\u001b[0m \u001b[39mprint\u001b[39m(split_words(text))\n",
      "\u001b[1;32mc:\\Users\\KIKIp\\Documents\\Xử Lý Ngôn Ngữ Tự Nhiên\\test_tach_tu.ipynb Cell 1\u001b[0m line \u001b[0;36m6\n\u001b[0;32m      <a href='vscode-notebook-cell:/c%3A/Users/KIKIp/Documents/X%E1%BB%AD%20L%C3%BD%20Ng%C3%B4n%20Ng%E1%BB%AF%20T%E1%BB%B1%20Nhi%C3%AAn/test_tach_tu.ipynb#W0sZmlsZQ%3D%3D?line=4'>5</a>\u001b[0m \u001b[39mdef\u001b[39;00m \u001b[39msplit_words\u001b[39m(text):\n\u001b[1;32m----> <a href='vscode-notebook-cell:/c%3A/Users/KIKIp/Documents/X%E1%BB%AD%20L%C3%BD%20Ng%C3%B4n%20Ng%E1%BB%AF%20T%E1%BB%B1%20Nhi%C3%AAn/test_tach_tu.ipynb#W0sZmlsZQ%3D%3D?line=5'>6</a>\u001b[0m   \u001b[39mreturn\u001b[39;00m underthesea\u001b[39m.\u001b[39mword_tokenize(a)\n",
      "\u001b[1;31mNameError\u001b[0m: name 'a' is not defined"
     ]
    }
   ],
   "source": [
    "import underthesea\n",
    "import re\n",
    "text = \"Hôm nay 20/7/2023, Thủ-đô-Hà-Nội tổ chức lễ kỷ niệm 77 năm Cách mạng tháng Tám và Quốc khánh 2/9\"\n",
    "#\n",
    "def split_words(text):\n",
    "  return underthesea.word_tokenize(a)\n",
    "\n",
    "print(split_words(text))\n"
   ]
  },
  {
   "cell_type": "code",
   "execution_count": 11,
   "id": "7b07489c-5f08-4af2-843e-ce5a1f9fd804",
   "metadata": {},
   "outputs": [
    {
     "name": "stdout",
     "output_type": "stream",
     "text": [
      "['Hôm', 'nay', '20', '7', '2023', 'Thủ', 'đô', 'Hà', 'Nội', 'tổ', 'chức', 'lễ', 'kỷ', 'niệm', '77', 'năm', 'Cách', 'mạng', 'tháng', 'Tám', 'và', 'Quốc', 'khánh', '2', '9']\n"
     ]
    }
   ],
   "source": [
    "import re\n",
    "\n",
    "def split_words(text):\n",
    "  return re.findall(r\"\\w+\", text)\n",
    "\n",
    "print(split_words(\"Hôm nay 20/7/2023, Thủ đô Hà Nội tổ chức lễ kỷ niệm 77 năm Cách mạng tháng Tám và Quốc khánh 2/9\"))\n"
   ]
  },
  {
   "cell_type": "code",
   "execution_count": 5,
   "id": "7f1f9542-68e9-497a-bd7b-4c3d5f6112b0",
   "metadata": {},
   "outputs": [
    {
     "name": "stdout",
     "output_type": "stream",
     "text": [
      "['Hôm', 'nay', '20/7/2023', ',', 'Thủ', 'đô', 'Hà', 'Nội', 'tổ', 'chức', 'lễ', 'kỷ', 'niệm', '77', 'năm', 'Cách', 'mạng', 'tháng', 'Tám', 'và', 'Quốc', 'khánh', '2/9']\n"
     ]
    }
   ],
   "source": [
    "import nltk\n",
    "import re\n",
    "text = \"Hôm nay 20/7/2023, Thủ đô Hà Nội tổ chức lễ kỷ niệm 77 năm Cách mạng tháng Tám và Quốc khánh 2/9\"\n",
    "def split_words(text):\n",
    "  a = re.findall(r\"\\w+\", text)\n",
    "  a = nltk.word_tokenize(text)\n",
    "  print(a)\n",
    "split_words(text)\n",
    "# print(split_words(\"Hôm nay 20/7/2023, Thủ đô Hà Nội tổ chức lễ kỷ niệm 77 năm Cách mạng tháng Tám và Quốc khánh 2/9\"))\n"
   ]
  },
  {
   "cell_type": "code",
   "execution_count": 11,
   "id": "e4602e9a-79d1-4693-891a-7dff93cc926b",
   "metadata": {},
   "outputs": [
    {
     "ename": "ModuleNotFoundError",
     "evalue": "No module named 'VietTokenizer'",
     "output_type": "error",
     "traceback": [
      "\u001b[1;31m---------------------------------------------------------------------------\u001b[0m",
      "\u001b[1;31mModuleNotFoundError\u001b[0m                       Traceback (most recent call last)",
      "Cell \u001b[1;32mIn[11], line 1\u001b[0m\n\u001b[1;32m----> 1\u001b[0m \u001b[38;5;28;01mimport\u001b[39;00m \u001b[38;5;21;01mVietTokenizer\u001b[39;00m\n\u001b[0;32m      3\u001b[0m text \u001b[38;5;241m=\u001b[39m \u001b[38;5;124m\"\u001b[39m\u001b[38;5;124mThủ-đô-Hà-Nội\u001b[39m\u001b[38;5;124m\"\u001b[39m\n\u001b[0;32m      5\u001b[0m \u001b[38;5;28mprint\u001b[39m(VietTokenizer\u001b[38;5;241m.\u001b[39mnormalize(text))\n",
      "\u001b[1;31mModuleNotFoundError\u001b[0m: No module named 'VietTokenizer'"
     ]
    }
   ],
   "source": [
    "import VietTokenizer\n",
    "\n",
    "text = \"Thủ-đô-Hà-Nội\"\n",
    "\n",
    "print(VietTokenizer.normalize(text))"
   ]
  },
  {
   "cell_type": "code",
   "execution_count": 12,
   "id": "fc986e4e-712c-4506-8bfb-aeb4c59787d7",
   "metadata": {},
   "outputs": [
    {
     "name": "stderr",
     "output_type": "stream",
     "text": [
      "ERROR: Could not find a version that satisfies the requirement VietTokenizer (from versions: none)\n",
      "ERROR: No matching distribution found for VietTokenizer\n",
      "\n",
      "[notice] A new release of pip is available: 23.2.1 -> 23.3.1\n",
      "[notice] To update, run: python.exe -m pip install --upgrade pip\n"
     ]
    }
   ],
   "source": [
    "!pip install VietTokenizer\n"
   ]
  },
  {
   "cell_type": "code",
   "execution_count": null,
   "id": "20d0f4e9-cf9e-4396-a76a-c4b19266428b",
   "metadata": {},
   "outputs": [],
   "source": []
  }
 ],
 "metadata": {
  "kernelspec": {
   "display_name": "Python 3 (ipykernel)",
   "language": "python",
   "name": "python3"
  },
  "language_info": {
   "codemirror_mode": {
    "name": "ipython",
    "version": 3
   },
   "file_extension": ".py",
   "mimetype": "text/x-python",
   "name": "python",
   "nbconvert_exporter": "python",
   "pygments_lexer": "ipython3",
   "version": "3.11.6"
  }
 },
 "nbformat": 4,
 "nbformat_minor": 5
}
