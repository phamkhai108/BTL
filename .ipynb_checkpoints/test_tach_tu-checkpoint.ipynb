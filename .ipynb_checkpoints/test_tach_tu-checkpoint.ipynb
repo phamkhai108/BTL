{
 "cells": [
  {
   "cell_type": "code",
   "execution_count": 1,
   "metadata": {},
   "outputs": [
    {
     "name": "stdout",
     "output_type": "stream",
     "text": [
      "Xin chào , tôi là một ví_dụ về cách tách từ tiếng Việt .\n"
     ]
    }
   ],
   "source": [
    "from underthesea import word_tokenize\n",
    "\n",
    "# Hàm tách từ theo ý nghĩa câu\n",
    "def tokenize_sentence(text):\n",
    "    return word_tokenize(text, format=\"text\")\n",
    "\n",
    "# Ví dụ\n",
    "text = \"Xin chào, tôi là một ví dụ về cách tách từ tiếng Việt.\"\n",
    "tokenized_text = tokenize_sentence(text)\n",
    "print(tokenized_text)\n"
   ]
  }
 ],
 "metadata": {
  "kernelspec": {
   "display_name": "Python 3",
   "language": "python",
   "name": "python3"
  },
  "language_info": {
   "codemirror_mode": {
    "name": "ipython",
    "version": 3
   },
   "file_extension": ".py",
   "mimetype": "text/x-python",
   "name": "python",
   "nbconvert_exporter": "python",
   "pygments_lexer": "ipython3",
   "version": "3.11.6"
  }
 },
 "nbformat": 4,
 "nbformat_minor": 5
}
